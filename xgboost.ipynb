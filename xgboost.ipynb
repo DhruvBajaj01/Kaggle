{
 "cells": [
  {
   "cell_type": "markdown",
   "id": "620e1089",
   "metadata": {
    "papermill": {
     "duration": 0.010718,
     "end_time": "2021-09-26T20:07:57.635141",
     "exception": false,
     "start_time": "2021-09-26T20:07:57.624423",
     "status": "completed"
    },
    "tags": []
   },
   "source": [
    "# XGBoost #"
   ]
  },
  {
   "cell_type": "code",
   "execution_count": 1,
   "id": "35feac9c",
   "metadata": {
    "execution": {
     "iopub.execute_input": "2021-09-26T20:07:57.731887Z",
     "iopub.status.busy": "2021-09-26T20:07:57.731162Z",
     "iopub.status.idle": "2021-09-26T20:07:58.932632Z",
     "shell.execute_reply": "2021-09-26T20:07:58.931969Z",
     "shell.execute_reply.started": "2021-09-26T19:58:38.482869Z"
    },
    "papermill": {
     "duration": 1.288769,
     "end_time": "2021-09-26T20:07:58.932827",
     "exception": false,
     "start_time": "2021-09-26T20:07:57.644058",
     "status": "completed"
    },
    "tags": []
   },
   "outputs": [],
   "source": [
    "import numpy as np # linear algebra\n",
    "import pandas as pd # data processing, CSV file I/O (e.g. pd.read_csv)\n",
    "import pandas as pd\n",
    "import numpy as np\n",
    "from sklearn.model_selection import train_test_split\n",
    "import xgboost as xgb\n",
    "from hyperopt import STATUS_OK, Trials, fmin, hp, tpe \n",
    "from sklearn.metrics import  accuracy_score\n",
    "from sklearn.preprocessing import StandardScaler\n",
    "from sklearn.impute import SimpleImputer"
   ]
  },
  {
   "cell_type": "code",
   "execution_count": 2,
   "id": "e4d4193b",
   "metadata": {
    "execution": {
     "iopub.execute_input": "2021-09-26T20:07:58.955556Z",
     "iopub.status.busy": "2021-09-26T20:07:58.953110Z",
     "iopub.status.idle": "2021-09-26T20:08:39.740128Z",
     "shell.execute_reply": "2021-09-26T20:08:39.739598Z",
     "shell.execute_reply.started": "2021-09-26T19:58:40.109778Z"
    },
    "papermill": {
     "duration": 40.798268,
     "end_time": "2021-09-26T20:08:39.740314",
     "exception": false,
     "start_time": "2021-09-26T20:07:58.942046",
     "status": "completed"
    },
    "tags": []
   },
   "outputs": [],
   "source": [
    "train = pd.read_csv('../input/tabular-playground-series-sep-2021/train.csv')\n",
    "test = pd.read_csv('../input/tabular-playground-series-sep-2021/test.csv')\n",
    "solution = pd.read_csv('../input/tabular-playground-series-sep-2021/sample_solution.csv')"
   ]
  },
  {
   "cell_type": "code",
   "execution_count": 3,
   "id": "1528987c",
   "metadata": {
    "execution": {
     "iopub.execute_input": "2021-09-26T20:08:40.168401Z",
     "iopub.status.busy": "2021-09-26T20:08:40.166436Z",
     "iopub.status.idle": "2021-09-26T20:08:40.170962Z",
     "shell.execute_reply": "2021-09-26T20:08:40.170511Z",
     "shell.execute_reply.started": "2021-09-26T19:59:19.472737Z"
    },
    "papermill": {
     "duration": 0.421574,
     "end_time": "2021-09-26T20:08:40.171107",
     "exception": false,
     "start_time": "2021-09-26T20:08:39.749533",
     "status": "completed"
    },
    "tags": []
   },
   "outputs": [],
   "source": [
    "Y_train = train.claim\n",
    "X_train = train.drop(columns = ['id' , 'claim'] , inplace = False)\n",
    "test = test.drop(columns = ['id'] , inplace = False)"
   ]
  },
  {
   "cell_type": "code",
   "execution_count": 4,
   "id": "d536cd71",
   "metadata": {
    "execution": {
     "iopub.execute_input": "2021-09-26T20:08:40.192976Z",
     "iopub.status.busy": "2021-09-26T20:08:40.192079Z",
     "iopub.status.idle": "2021-09-26T20:08:40.452526Z",
     "shell.execute_reply": "2021-09-26T20:08:40.452013Z",
     "shell.execute_reply.started": "2021-09-26T19:59:20.001558Z"
    },
    "papermill": {
     "duration": 0.272894,
     "end_time": "2021-09-26T20:08:40.452652",
     "exception": false,
     "start_time": "2021-09-26T20:08:40.179758",
     "status": "completed"
    },
    "tags": []
   },
   "outputs": [],
   "source": [
    "X_train['NaN_row'] = X_train.isna().sum(axis=1)\n",
    "test['NaN_row'] = test.isna().sum(axis=1)"
   ]
  },
  {
   "cell_type": "code",
   "execution_count": 5,
   "id": "c88494e0",
   "metadata": {
    "execution": {
     "iopub.execute_input": "2021-09-26T20:08:40.477062Z",
     "iopub.status.busy": "2021-09-26T20:08:40.476092Z",
     "iopub.status.idle": "2021-09-26T20:08:47.164827Z",
     "shell.execute_reply": "2021-09-26T20:08:47.164354Z",
     "shell.execute_reply.started": "2021-09-26T19:59:20.386863Z"
    },
    "papermill": {
     "duration": 6.703638,
     "end_time": "2021-09-26T20:08:47.164961",
     "exception": false,
     "start_time": "2021-09-26T20:08:40.461323",
     "status": "completed"
    },
    "tags": []
   },
   "outputs": [],
   "source": [
    "test['NaN_row'] = test.isna().sum(axis=1)\n",
    "imputer = SimpleImputer(missing_values=np.nan, strategy='constant')\n",
    "X_train = imputer.fit_transform(X_train)\n",
    "test = imputer.transform(test)\n",
    "scaling = StandardScaler()\n",
    "X_train = scaling.fit_transform(X_train)\n",
    "test = scaling.fit_transform(test)\n",
    "X_train = pd.DataFrame(X_train)\n",
    "test = pd.DataFrame(test)"
   ]
  },
  {
   "cell_type": "code",
   "execution_count": 6,
   "id": "1d519855",
   "metadata": {
    "execution": {
     "iopub.execute_input": "2021-09-26T20:08:47.192419Z",
     "iopub.status.busy": "2021-09-26T20:08:47.190665Z",
     "iopub.status.idle": "2021-09-26T20:08:47.192995Z",
     "shell.execute_reply": "2021-09-26T20:08:47.193415Z",
     "shell.execute_reply.started": "2021-09-26T19:59:28.636678Z"
    },
    "papermill": {
     "duration": 0.019693,
     "end_time": "2021-09-26T20:08:47.193542",
     "exception": false,
     "start_time": "2021-09-26T20:08:47.173849",
     "status": "completed"
    },
    "tags": []
   },
   "outputs": [],
   "source": [
    "def objective_xgb( trial):\n",
    "    x_train , X_test , y_train , y_test = train_test_split(X_train , Y_train , random_state = 0 , test_size = 0.2)\n",
    "    params = {'max_depth': hp.quniform(\"max_depth\", 3, 10 , 2 ),\n",
    "        'eta' : trial.suggest_loguniform('eta', 1e-5, 0.2),\n",
    "        'gamma' : trial.suggest_loguniform('gamma', 1e-8, 1.0),\n",
    "        'reg_lambda': trial.suggest_loguniform('reg_lambda', 1e-4, 1e4),\n",
    "        'reg_alpha': trial.suggest_loguniform('reg_alpha', 1e-4, 1e4),\n",
    "        'colsample_bytree' : hp.uniform('colsample_bytree', 0.1 , 1 ),\n",
    "        'min_child_weight' : hp.quniform('min_child_weight', 100 , 1000 , 1),\n",
    "        'subsample' : trial.suggest_float('subsample', 1e-8,1),\n",
    "        'learning_rate': 0.01 ,\n",
    "        'n_estimators': 10000,\n",
    "        'seed': 0 ,\n",
    "        'tree_method': 'gpu_hist' ,\n",
    "         'gpu_id': 0, \n",
    "         'predictor': 'gpu_predictor'\n",
    "    }\n",
    "    eval_set = [(X_test, y_test)]\n",
    "    model = xgb.XGBClassifier().set_params(**params)\n",
    "    model.fit(x_train, y_train, early_stopping_rounds = 250, eval_set = eval_set, verbose = 500)\n",
    "    y_pred = model.predict_proba(X_test)\n",
    "    roc = roc_auc_score(pd.get_dummies(y_test), y_pred)\n",
    "    return roc"
   ]
  },
  {
   "cell_type": "code",
   "execution_count": 7,
   "id": "92122daa",
   "metadata": {
    "execution": {
     "iopub.execute_input": "2021-09-26T20:08:47.216022Z",
     "iopub.status.busy": "2021-09-26T20:08:47.213863Z",
     "iopub.status.idle": "2021-09-26T20:08:48.151110Z",
     "shell.execute_reply": "2021-09-26T20:08:48.150567Z",
     "shell.execute_reply.started": "2021-09-26T19:59:28.651527Z"
    },
    "papermill": {
     "duration": 0.949627,
     "end_time": "2021-09-26T20:08:48.151345",
     "exception": false,
     "start_time": "2021-09-26T20:08:47.201718",
     "status": "completed"
    },
    "tags": []
   },
   "outputs": [],
   "source": [
    "X , X_val , Y , Y_val = train_test_split(X_train , Y_train , random_state = 0 , test_size = 0.05)"
   ]
  },
  {
   "cell_type": "code",
   "execution_count": 8,
   "id": "c0188b89",
   "metadata": {
    "execution": {
     "iopub.execute_input": "2021-09-26T20:08:48.176468Z",
     "iopub.status.busy": "2021-09-26T20:08:48.174776Z",
     "iopub.status.idle": "2021-09-26T20:08:48.177116Z",
     "shell.execute_reply": "2021-09-26T20:08:48.177539Z",
     "shell.execute_reply.started": "2021-09-26T19:59:29.524266Z"
    },
    "papermill": {
     "duration": 0.016546,
     "end_time": "2021-09-26T20:08:48.177668",
     "exception": false,
     "start_time": "2021-09-26T20:08:48.161122",
     "status": "completed"
    },
    "tags": []
   },
   "outputs": [],
   "source": [
    "params = {\n",
    "    'max_depth' : 8 , 'eta': 0.01476703340476827e-05, 'gamma': 0.02355394372959 ,\n",
    "    'reg_lambda': 0.0016354050956302484, 'reg_alpha': 1.3209533717146242,'subsample': 0.9237998842768156 ,\n",
    "    'colsample_bytree': 0.9, 'colsample_bylevel': 0.2 , 'booster': 'gbtree',\n",
    "    'learning_rate':0.025 , 'n_estimators':10000,'seed': 0 ,'objective' : 'binary:logistic',\n",
    "    'tree_method': 'gpu_hist' ,'gpu_id': 0, 'predictor': 'gpu_predictor' ,'min_child_weight': 250 \n",
    "}"
   ]
  },
  {
   "cell_type": "code",
   "execution_count": 9,
   "id": "2c054921",
   "metadata": {
    "execution": {
     "iopub.execute_input": "2021-09-26T20:08:48.198760Z",
     "iopub.status.busy": "2021-09-26T20:08:48.198223Z",
     "iopub.status.idle": "2021-09-26T20:14:36.963333Z",
     "shell.execute_reply": "2021-09-26T20:14:36.964323Z"
    },
    "papermill": {
     "duration": 348.778943,
     "end_time": "2021-09-26T20:14:36.964815",
     "exception": false,
     "start_time": "2021-09-26T20:08:48.185872",
     "status": "completed"
    },
    "tags": []
   },
   "outputs": [
    {
     "name": "stdout",
     "output_type": "stream",
     "text": [
      "[20:08:54] WARNING: ../src/learner.cc:1095: Starting in XGBoost 1.3.0, the default evaluation metric used with the objective 'binary:logistic' was changed from 'error' to 'logloss'. Explicitly set eval_metric if you'd like to restore the old behavior.\n"
     ]
    },
    {
     "data": {
      "text/plain": [
       "0.7700434274260899"
      ]
     },
     "execution_count": 9,
     "metadata": {},
     "output_type": "execute_result"
    }
   ],
   "source": [
    " model = xgb.XGBClassifier(**params , random_state=2021, use_label_encoder=False)\n",
    " model.fit(X , Y)\n",
    " Y_predict = model.predict(X_val)\n",
    " accuracy_score(Y_val , Y_predict)"
   ]
  },
  {
   "cell_type": "code",
   "execution_count": 10,
   "id": "d421a526",
   "metadata": {
    "execution": {
     "iopub.execute_input": "2021-09-26T20:14:37.006739Z",
     "iopub.status.busy": "2021-09-26T20:14:37.005897Z",
     "iopub.status.idle": "2021-09-26T20:14:49.817542Z",
     "shell.execute_reply": "2021-09-26T20:14:49.816991Z"
    },
    "papermill": {
     "duration": 12.83208,
     "end_time": "2021-09-26T20:14:49.817678",
     "exception": false,
     "start_time": "2021-09-26T20:14:36.985598",
     "status": "completed"
    },
    "tags": []
   },
   "outputs": [],
   "source": [
    "y_test = model.predict_proba(test)[:,1]\n",
    "solution['claim'] = y_test\n",
    "solution.to_csv('submission.csv', index=False)"
   ]
  },
  {
   "cell_type": "code",
   "execution_count": null,
   "id": "dd88e5c7",
   "metadata": {
    "papermill": {
     "duration": 0.008856,
     "end_time": "2021-09-26T20:14:49.836370",
     "exception": false,
     "start_time": "2021-09-26T20:14:49.827514",
     "status": "completed"
    },
    "tags": []
   },
   "outputs": [],
   "source": []
  }
 ],
 "metadata": {
  "kernelspec": {
   "display_name": "Python 3",
   "language": "python",
   "name": "python3"
  },
  "language_info": {
   "codemirror_mode": {
    "name": "ipython",
    "version": 3
   },
   "file_extension": ".py",
   "mimetype": "text/x-python",
   "name": "python",
   "nbconvert_exporter": "python",
   "pygments_lexer": "ipython3",
   "version": "3.7.10"
  },
  "papermill": {
   "default_parameters": {},
   "duration": 420.746433,
   "end_time": "2021-09-26T20:14:51.904885",
   "environment_variables": {},
   "exception": null,
   "input_path": "__notebook__.ipynb",
   "output_path": "__notebook__.ipynb",
   "parameters": {},
   "start_time": "2021-09-26T20:07:51.158452",
   "version": "2.3.3"
  }
 },
 "nbformat": 4,
 "nbformat_minor": 5
}
