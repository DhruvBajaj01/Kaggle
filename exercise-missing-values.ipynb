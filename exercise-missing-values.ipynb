{
 "cells": [
  {
   "cell_type": "markdown",
   "id": "e8f991e1",
   "metadata": {
    "papermill": {
     "duration": 0.030916,
     "end_time": "2021-08-30T06:23:57.567960",
     "exception": false,
     "start_time": "2021-08-30T06:23:57.537044",
     "status": "completed"
    },
    "tags": []
   },
   "source": [
    "**This notebook is an exercise in the [Intermediate Machine Learning](https://www.kaggle.com/learn/intermediate-machine-learning) course.  You can reference the tutorial at [this link](https://www.kaggle.com/alexisbcook/missing-values).**\n",
    "\n",
    "---\n"
   ]
  },
  {
   "cell_type": "markdown",
   "id": "fbc10925",
   "metadata": {
    "papermill": {
     "duration": 0.028843,
     "end_time": "2021-08-30T06:23:57.627080",
     "exception": false,
     "start_time": "2021-08-30T06:23:57.598237",
     "status": "completed"
    },
    "tags": []
   },
   "source": [
    "Now it's your turn to test your new knowledge of **missing values** handling. You'll probably find it makes a big difference.\n",
    "\n",
    "# Setup\n",
    "\n",
    "The questions will give you feedback on your work. Run the following cell to set up the feedback system."
   ]
  },
  {
   "cell_type": "code",
   "execution_count": 1,
   "id": "609485b3",
   "metadata": {
    "execution": {
     "iopub.execute_input": "2021-08-30T06:23:57.687875Z",
     "iopub.status.busy": "2021-08-30T06:23:57.686723Z",
     "iopub.status.idle": "2021-08-30T06:23:57.835906Z",
     "shell.execute_reply": "2021-08-30T06:23:57.835185Z",
     "shell.execute_reply.started": "2021-08-30T05:54:20.006509Z"
    },
    "papermill": {
     "duration": 0.180907,
     "end_time": "2021-08-30T06:23:57.836083",
     "exception": false,
     "start_time": "2021-08-30T06:23:57.655176",
     "status": "completed"
    },
    "tags": []
   },
   "outputs": [
    {
     "name": "stdout",
     "output_type": "stream",
     "text": [
      "Setup Complete\n"
     ]
    }
   ],
   "source": [
    "# Set up code checking\n",
    "import os\n",
    "if not os.path.exists(\"../input/train.csv\"):\n",
    "    os.symlink(\"../input/home-data-for-ml-course/train.csv\", \"../input/train.csv\")  \n",
    "    os.symlink(\"../input/home-data-for-ml-course/test.csv\", \"../input/test.csv\") \n",
    "from learntools.core import binder\n",
    "binder.bind(globals())\n",
    "from learntools.ml_intermediate.ex2 import *\n",
    "print(\"Setup Complete\")"
   ]
  },
  {
   "cell_type": "markdown",
   "id": "9320ccd7",
   "metadata": {
    "papermill": {
     "duration": 0.035387,
     "end_time": "2021-08-30T06:23:57.900434",
     "exception": false,
     "start_time": "2021-08-30T06:23:57.865047",
     "status": "completed"
    },
    "tags": []
   },
   "source": [
    "In this exercise, you will work with data from the [Housing Prices Competition for Kaggle Learn Users](https://www.kaggle.com/c/home-data-for-ml-course). \n",
    "\n",
    "![Ames Housing dataset image](https://i.imgur.com/lTJVG4e.png)\n",
    "\n",
    "Run the next code cell without changes to load the training and validation sets in `X_train`, `X_valid`, `y_train`, and `y_valid`.  The test set is loaded in `X_test`."
   ]
  },
  {
   "cell_type": "code",
   "execution_count": 2,
   "id": "c78c5384",
   "metadata": {
    "execution": {
     "iopub.execute_input": "2021-08-30T06:23:57.975564Z",
     "iopub.status.busy": "2021-08-30T06:23:57.974566Z",
     "iopub.status.idle": "2021-08-30T06:23:59.156684Z",
     "shell.execute_reply": "2021-08-30T06:23:59.156002Z",
     "shell.execute_reply.started": "2021-08-30T05:54:20.151778Z"
    },
    "papermill": {
     "duration": 1.222186,
     "end_time": "2021-08-30T06:23:59.156841",
     "exception": false,
     "start_time": "2021-08-30T06:23:57.934655",
     "status": "completed"
    },
    "tags": []
   },
   "outputs": [],
   "source": [
    "import pandas as pd\n",
    "from sklearn.model_selection import train_test_split\n",
    "\n",
    "# Read the data\n",
    "X_full = pd.read_csv('../input/train.csv', index_col='Id')\n",
    "X_test_full = pd.read_csv('../input/test.csv', index_col='Id')\n",
    "\n",
    "# Remove rows with missing target, separate target from predictors\n",
    "X_full.dropna(axis=0, subset=['SalePrice'], inplace=True)\n",
    "y = X_full.SalePrice\n",
    "X_full.drop(['SalePrice'], axis=1, inplace=True)\n",
    "\n",
    "# To keep things simple, we'll use only numerical predictors\n",
    "X = X_full.select_dtypes(exclude=['object'])\n",
    "X_test = X_test_full.select_dtypes(exclude=['object'])\n",
    "\n",
    "# Break off validation set from training data\n",
    "X_train, X_valid, y_train, y_valid = train_test_split(X, y, train_size=0.8, test_size=0.2,\n",
    "                                                      random_state=0)"
   ]
  },
  {
   "cell_type": "markdown",
   "id": "634d6751",
   "metadata": {
    "papermill": {
     "duration": 0.029383,
     "end_time": "2021-08-30T06:23:59.218277",
     "exception": false,
     "start_time": "2021-08-30T06:23:59.188894",
     "status": "completed"
    },
    "tags": []
   },
   "source": [
    "Use the next code cell to print the first five rows of the data."
   ]
  },
  {
   "cell_type": "code",
   "execution_count": 3,
   "id": "4705040c",
   "metadata": {
    "execution": {
     "iopub.execute_input": "2021-08-30T06:23:59.287827Z",
     "iopub.status.busy": "2021-08-30T06:23:59.287095Z",
     "iopub.status.idle": "2021-08-30T06:23:59.314734Z",
     "shell.execute_reply": "2021-08-30T06:23:59.315221Z",
     "shell.execute_reply.started": "2021-08-30T05:54:21.242448Z"
    },
    "papermill": {
     "duration": 0.067824,
     "end_time": "2021-08-30T06:23:59.315430",
     "exception": false,
     "start_time": "2021-08-30T06:23:59.247606",
     "status": "completed"
    },
    "tags": []
   },
   "outputs": [
    {
     "data": {
      "text/html": [
       "<div>\n",
       "<style scoped>\n",
       "    .dataframe tbody tr th:only-of-type {\n",
       "        vertical-align: middle;\n",
       "    }\n",
       "\n",
       "    .dataframe tbody tr th {\n",
       "        vertical-align: top;\n",
       "    }\n",
       "\n",
       "    .dataframe thead th {\n",
       "        text-align: right;\n",
       "    }\n",
       "</style>\n",
       "<table border=\"1\" class=\"dataframe\">\n",
       "  <thead>\n",
       "    <tr style=\"text-align: right;\">\n",
       "      <th></th>\n",
       "      <th>MSSubClass</th>\n",
       "      <th>LotFrontage</th>\n",
       "      <th>LotArea</th>\n",
       "      <th>OverallQual</th>\n",
       "      <th>OverallCond</th>\n",
       "      <th>YearBuilt</th>\n",
       "      <th>YearRemodAdd</th>\n",
       "      <th>MasVnrArea</th>\n",
       "      <th>BsmtFinSF1</th>\n",
       "      <th>BsmtFinSF2</th>\n",
       "      <th>...</th>\n",
       "      <th>GarageArea</th>\n",
       "      <th>WoodDeckSF</th>\n",
       "      <th>OpenPorchSF</th>\n",
       "      <th>EnclosedPorch</th>\n",
       "      <th>3SsnPorch</th>\n",
       "      <th>ScreenPorch</th>\n",
       "      <th>PoolArea</th>\n",
       "      <th>MiscVal</th>\n",
       "      <th>MoSold</th>\n",
       "      <th>YrSold</th>\n",
       "    </tr>\n",
       "    <tr>\n",
       "      <th>Id</th>\n",
       "      <th></th>\n",
       "      <th></th>\n",
       "      <th></th>\n",
       "      <th></th>\n",
       "      <th></th>\n",
       "      <th></th>\n",
       "      <th></th>\n",
       "      <th></th>\n",
       "      <th></th>\n",
       "      <th></th>\n",
       "      <th></th>\n",
       "      <th></th>\n",
       "      <th></th>\n",
       "      <th></th>\n",
       "      <th></th>\n",
       "      <th></th>\n",
       "      <th></th>\n",
       "      <th></th>\n",
       "      <th></th>\n",
       "      <th></th>\n",
       "      <th></th>\n",
       "    </tr>\n",
       "  </thead>\n",
       "  <tbody>\n",
       "    <tr>\n",
       "      <th>619</th>\n",
       "      <td>20</td>\n",
       "      <td>90.0</td>\n",
       "      <td>11694</td>\n",
       "      <td>9</td>\n",
       "      <td>5</td>\n",
       "      <td>2007</td>\n",
       "      <td>2007</td>\n",
       "      <td>452.0</td>\n",
       "      <td>48</td>\n",
       "      <td>0</td>\n",
       "      <td>...</td>\n",
       "      <td>774</td>\n",
       "      <td>0</td>\n",
       "      <td>108</td>\n",
       "      <td>0</td>\n",
       "      <td>0</td>\n",
       "      <td>260</td>\n",
       "      <td>0</td>\n",
       "      <td>0</td>\n",
       "      <td>7</td>\n",
       "      <td>2007</td>\n",
       "    </tr>\n",
       "    <tr>\n",
       "      <th>871</th>\n",
       "      <td>20</td>\n",
       "      <td>60.0</td>\n",
       "      <td>6600</td>\n",
       "      <td>5</td>\n",
       "      <td>5</td>\n",
       "      <td>1962</td>\n",
       "      <td>1962</td>\n",
       "      <td>0.0</td>\n",
       "      <td>0</td>\n",
       "      <td>0</td>\n",
       "      <td>...</td>\n",
       "      <td>308</td>\n",
       "      <td>0</td>\n",
       "      <td>0</td>\n",
       "      <td>0</td>\n",
       "      <td>0</td>\n",
       "      <td>0</td>\n",
       "      <td>0</td>\n",
       "      <td>0</td>\n",
       "      <td>8</td>\n",
       "      <td>2009</td>\n",
       "    </tr>\n",
       "    <tr>\n",
       "      <th>93</th>\n",
       "      <td>30</td>\n",
       "      <td>80.0</td>\n",
       "      <td>13360</td>\n",
       "      <td>5</td>\n",
       "      <td>7</td>\n",
       "      <td>1921</td>\n",
       "      <td>2006</td>\n",
       "      <td>0.0</td>\n",
       "      <td>713</td>\n",
       "      <td>0</td>\n",
       "      <td>...</td>\n",
       "      <td>432</td>\n",
       "      <td>0</td>\n",
       "      <td>0</td>\n",
       "      <td>44</td>\n",
       "      <td>0</td>\n",
       "      <td>0</td>\n",
       "      <td>0</td>\n",
       "      <td>0</td>\n",
       "      <td>8</td>\n",
       "      <td>2009</td>\n",
       "    </tr>\n",
       "    <tr>\n",
       "      <th>818</th>\n",
       "      <td>20</td>\n",
       "      <td>NaN</td>\n",
       "      <td>13265</td>\n",
       "      <td>8</td>\n",
       "      <td>5</td>\n",
       "      <td>2002</td>\n",
       "      <td>2002</td>\n",
       "      <td>148.0</td>\n",
       "      <td>1218</td>\n",
       "      <td>0</td>\n",
       "      <td>...</td>\n",
       "      <td>857</td>\n",
       "      <td>150</td>\n",
       "      <td>59</td>\n",
       "      <td>0</td>\n",
       "      <td>0</td>\n",
       "      <td>0</td>\n",
       "      <td>0</td>\n",
       "      <td>0</td>\n",
       "      <td>7</td>\n",
       "      <td>2008</td>\n",
       "    </tr>\n",
       "    <tr>\n",
       "      <th>303</th>\n",
       "      <td>20</td>\n",
       "      <td>118.0</td>\n",
       "      <td>13704</td>\n",
       "      <td>7</td>\n",
       "      <td>5</td>\n",
       "      <td>2001</td>\n",
       "      <td>2002</td>\n",
       "      <td>150.0</td>\n",
       "      <td>0</td>\n",
       "      <td>0</td>\n",
       "      <td>...</td>\n",
       "      <td>843</td>\n",
       "      <td>468</td>\n",
       "      <td>81</td>\n",
       "      <td>0</td>\n",
       "      <td>0</td>\n",
       "      <td>0</td>\n",
       "      <td>0</td>\n",
       "      <td>0</td>\n",
       "      <td>1</td>\n",
       "      <td>2006</td>\n",
       "    </tr>\n",
       "  </tbody>\n",
       "</table>\n",
       "<p>5 rows × 36 columns</p>\n",
       "</div>"
      ],
      "text/plain": [
       "     MSSubClass  LotFrontage  LotArea  OverallQual  OverallCond  YearBuilt  \\\n",
       "Id                                                                           \n",
       "619          20         90.0    11694            9            5       2007   \n",
       "871          20         60.0     6600            5            5       1962   \n",
       "93           30         80.0    13360            5            7       1921   \n",
       "818          20          NaN    13265            8            5       2002   \n",
       "303          20        118.0    13704            7            5       2001   \n",
       "\n",
       "     YearRemodAdd  MasVnrArea  BsmtFinSF1  BsmtFinSF2  ...  GarageArea  \\\n",
       "Id                                                     ...               \n",
       "619          2007       452.0          48           0  ...         774   \n",
       "871          1962         0.0           0           0  ...         308   \n",
       "93           2006         0.0         713           0  ...         432   \n",
       "818          2002       148.0        1218           0  ...         857   \n",
       "303          2002       150.0           0           0  ...         843   \n",
       "\n",
       "     WoodDeckSF  OpenPorchSF  EnclosedPorch  3SsnPorch  ScreenPorch  PoolArea  \\\n",
       "Id                                                                              \n",
       "619           0          108              0          0          260         0   \n",
       "871           0            0              0          0            0         0   \n",
       "93            0            0             44          0            0         0   \n",
       "818         150           59              0          0            0         0   \n",
       "303         468           81              0          0            0         0   \n",
       "\n",
       "     MiscVal  MoSold  YrSold  \n",
       "Id                            \n",
       "619        0       7    2007  \n",
       "871        0       8    2009  \n",
       "93         0       8    2009  \n",
       "818        0       7    2008  \n",
       "303        0       1    2006  \n",
       "\n",
       "[5 rows x 36 columns]"
      ]
     },
     "execution_count": 3,
     "metadata": {},
     "output_type": "execute_result"
    }
   ],
   "source": [
    "X_train.head()"
   ]
  },
  {
   "cell_type": "markdown",
   "id": "a39202e4",
   "metadata": {
    "papermill": {
     "duration": 0.028688,
     "end_time": "2021-08-30T06:23:59.373199",
     "exception": false,
     "start_time": "2021-08-30T06:23:59.344511",
     "status": "completed"
    },
    "tags": []
   },
   "source": [
    "You can already see a few missing values in the first several rows.  In the next step, you'll obtain a more comprehensive understanding of the missing values in the dataset.\n",
    "\n",
    "# Step 1: Preliminary investigation\n",
    "\n",
    "Run the code cell below without changes."
   ]
  },
  {
   "cell_type": "code",
   "execution_count": 4,
   "id": "14d11fed",
   "metadata": {
    "execution": {
     "iopub.execute_input": "2021-08-30T06:23:59.438862Z",
     "iopub.status.busy": "2021-08-30T06:23:59.436927Z",
     "iopub.status.idle": "2021-08-30T06:23:59.442897Z",
     "shell.execute_reply": "2021-08-30T06:23:59.443367Z",
     "shell.execute_reply.started": "2021-08-30T05:55:12.945160Z"
    },
    "papermill": {
     "duration": 0.041428,
     "end_time": "2021-08-30T06:23:59.443559",
     "exception": false,
     "start_time": "2021-08-30T06:23:59.402131",
     "status": "completed"
    },
    "tags": []
   },
   "outputs": [
    {
     "name": "stdout",
     "output_type": "stream",
     "text": [
      "(1168, 36)\n",
      "LotFrontage    212\n",
      "MasVnrArea       6\n",
      "GarageYrBlt     58\n",
      "dtype: int64\n"
     ]
    }
   ],
   "source": [
    "# Shape of training data (num_rows, num_columns)\n",
    "print(X_train.shape)\n",
    "\n",
    "# Number of missing values in each column of training data\n",
    "missing_val_count_by_column = (X_train.isnull().sum())\n",
    "print(missing_val_count_by_column[missing_val_count_by_column > 0])"
   ]
  },
  {
   "cell_type": "markdown",
   "id": "99a0a904",
   "metadata": {
    "papermill": {
     "duration": 0.029959,
     "end_time": "2021-08-30T06:23:59.503635",
     "exception": false,
     "start_time": "2021-08-30T06:23:59.473676",
     "status": "completed"
    },
    "tags": []
   },
   "source": [
    "### Part A\n",
    "\n",
    "Use the above output to answer the questions below."
   ]
  },
  {
   "cell_type": "code",
   "execution_count": 5,
   "id": "ba65a468",
   "metadata": {
    "execution": {
     "iopub.execute_input": "2021-08-30T06:23:59.569078Z",
     "iopub.status.busy": "2021-08-30T06:23:59.568356Z",
     "iopub.status.idle": "2021-08-30T06:23:59.573742Z",
     "shell.execute_reply": "2021-08-30T06:23:59.573163Z",
     "shell.execute_reply.started": "2021-08-30T05:57:58.005540Z"
    },
    "papermill": {
     "duration": 0.040458,
     "end_time": "2021-08-30T06:23:59.573891",
     "exception": false,
     "start_time": "2021-08-30T06:23:59.533433",
     "status": "completed"
    },
    "tags": []
   },
   "outputs": [
    {
     "data": {
      "application/javascript": [
       "parent.postMessage({\"jupyterEvent\": \"custom.exercise_interaction\", \"data\": {\"outcomeType\": 1, \"valueTowardsCompletion\": 1.0, \"interactionType\": 1, \"questionType\": 1, \"questionId\": \"1.1_InvestigateEquality\", \"learnToolsVersion\": \"0.3.4\", \"failureMessage\": \"\", \"exceptionClass\": \"\", \"trace\": \"\"}}, \"*\")"
      ],
      "text/plain": [
       "<IPython.core.display.Javascript object>"
      ]
     },
     "metadata": {},
     "output_type": "display_data"
    },
    {
     "data": {
      "text/markdown": [
       "<span style=\"color:#33cc33\">Correct</span>"
      ],
      "text/plain": [
       "Correct"
      ]
     },
     "metadata": {},
     "output_type": "display_data"
    }
   ],
   "source": [
    "# Fill in the line below: How many rows are in the training data?\n",
    "num_rows = 1168\n",
    "\n",
    "# Fill in the line below: How many columns in the training data\n",
    "# have missing values?\n",
    "num_cols_with_missing = 3\n",
    "\n",
    "# Fill in the line below: How many missing entries are contained in \n",
    "# all of the training data?\n",
    "tot_missing = 212+6+58\n",
    "\n",
    "# Check your answers\n",
    "step_1.a.check()"
   ]
  },
  {
   "cell_type": "code",
   "execution_count": 6,
   "id": "a196c764",
   "metadata": {
    "execution": {
     "iopub.execute_input": "2021-08-30T06:23:59.640658Z",
     "iopub.status.busy": "2021-08-30T06:23:59.639892Z",
     "iopub.status.idle": "2021-08-30T06:23:59.643151Z",
     "shell.execute_reply": "2021-08-30T06:23:59.643772Z",
     "shell.execute_reply.started": "2021-08-30T05:58:14.186372Z"
    },
    "papermill": {
     "duration": 0.037903,
     "end_time": "2021-08-30T06:23:59.643964",
     "exception": false,
     "start_time": "2021-08-30T06:23:59.606061",
     "status": "completed"
    },
    "tags": []
   },
   "outputs": [],
   "source": [
    "# Lines below will give you a hint or solution code\n",
    "#step_1.a.hint()\n",
    "#step_1.a.solution()"
   ]
  },
  {
   "cell_type": "markdown",
   "id": "23d90470",
   "metadata": {
    "papermill": {
     "duration": 0.030138,
     "end_time": "2021-08-30T06:23:59.704562",
     "exception": false,
     "start_time": "2021-08-30T06:23:59.674424",
     "status": "completed"
    },
    "tags": []
   },
   "source": [
    "### Part B\n",
    "Considering your answers above, what do you think is likely the best approach to dealing with the missing values?"
   ]
  },
  {
   "cell_type": "code",
   "execution_count": 7,
   "id": "2b159a2c",
   "metadata": {
    "execution": {
     "iopub.execute_input": "2021-08-30T06:23:59.767818Z",
     "iopub.status.busy": "2021-08-30T06:23:59.767220Z",
     "iopub.status.idle": "2021-08-30T06:23:59.774002Z",
     "shell.execute_reply": "2021-08-30T06:23:59.774554Z",
     "shell.execute_reply.started": "2021-08-30T05:58:19.061793Z"
    },
    "papermill": {
     "duration": 0.039909,
     "end_time": "2021-08-30T06:23:59.774724",
     "exception": false,
     "start_time": "2021-08-30T06:23:59.734815",
     "status": "completed"
    },
    "tags": []
   },
   "outputs": [
    {
     "data": {
      "application/javascript": [
       "parent.postMessage({\"jupyterEvent\": \"custom.exercise_interaction\", \"data\": {\"outcomeType\": 1, \"valueTowardsCompletion\": 1.0, \"interactionType\": 1, \"questionType\": 4, \"questionId\": \"1.2_InvestigateThought\", \"learnToolsVersion\": \"0.3.4\", \"failureMessage\": \"\", \"exceptionClass\": \"\", \"trace\": \"\"}}, \"*\")"
      ],
      "text/plain": [
       "<IPython.core.display.Javascript object>"
      ]
     },
     "metadata": {},
     "output_type": "display_data"
    },
    {
     "data": {
      "text/markdown": [
       "<span style=\"color:#33cc33\">Correct:</span> \n",
       "\n",
       "Since there are relatively few missing entries in the data (the column with the greatest percentage of missing values is missing less than 20% of its entries), we can expect that dropping columns is unlikely to yield good results.  This is because we'd be throwing away a lot of valuable data, and so imputation will likely perform better."
      ],
      "text/plain": [
       "Correct: \n",
       "\n",
       "Since there are relatively few missing entries in the data (the column with the greatest percentage of missing values is missing less than 20% of its entries), we can expect that dropping columns is unlikely to yield good results.  This is because we'd be throwing away a lot of valuable data, and so imputation will likely perform better."
      ]
     },
     "metadata": {},
     "output_type": "display_data"
    }
   ],
   "source": [
    "# Check your answer (Run this code cell to receive credit!)\n",
    "step_1.b.check()"
   ]
  },
  {
   "cell_type": "code",
   "execution_count": 8,
   "id": "7aa4bf40",
   "metadata": {
    "execution": {
     "iopub.execute_input": "2021-08-30T06:23:59.841468Z",
     "iopub.status.busy": "2021-08-30T06:23:59.840808Z",
     "iopub.status.idle": "2021-08-30T06:23:59.847214Z",
     "shell.execute_reply": "2021-08-30T06:23:59.847759Z",
     "shell.execute_reply.started": "2021-08-30T05:58:34.958561Z"
    },
    "papermill": {
     "duration": 0.041739,
     "end_time": "2021-08-30T06:23:59.847929",
     "exception": false,
     "start_time": "2021-08-30T06:23:59.806190",
     "status": "completed"
    },
    "tags": []
   },
   "outputs": [
    {
     "data": {
      "application/javascript": [
       "parent.postMessage({\"jupyterEvent\": \"custom.exercise_interaction\", \"data\": {\"interactionType\": 2, \"questionType\": 4, \"questionId\": \"1.2_InvestigateThought\", \"learnToolsVersion\": \"0.3.4\", \"valueTowardsCompletion\": 0.0, \"failureMessage\": \"\", \"exceptionClass\": \"\", \"trace\": \"\", \"outcomeType\": 4}}, \"*\")"
      ],
      "text/plain": [
       "<IPython.core.display.Javascript object>"
      ]
     },
     "metadata": {},
     "output_type": "display_data"
    },
    {
     "data": {
      "text/markdown": [
       "<span style=\"color:#3366cc\">Hint:</span> Does the dataset have a lot of missing values, or just a few?  Would we lose much information if we completely ignored the columns with missing entries?"
      ],
      "text/plain": [
       "Hint: Does the dataset have a lot of missing values, or just a few?  Would we lose much information if we completely ignored the columns with missing entries?"
      ]
     },
     "metadata": {},
     "output_type": "display_data"
    }
   ],
   "source": [
    "step_1.b.hint()"
   ]
  },
  {
   "cell_type": "markdown",
   "id": "ee3dcd30",
   "metadata": {
    "papermill": {
     "duration": 0.031957,
     "end_time": "2021-08-30T06:23:59.913956",
     "exception": false,
     "start_time": "2021-08-30T06:23:59.881999",
     "status": "completed"
    },
    "tags": []
   },
   "source": [
    "To compare different approaches to dealing with missing values, you'll use the same `score_dataset()` function from the tutorial.  This function reports the [mean absolute error](https://en.wikipedia.org/wiki/Mean_absolute_error) (MAE) from a random forest model."
   ]
  },
  {
   "cell_type": "code",
   "execution_count": 9,
   "id": "62ceaf43",
   "metadata": {
    "execution": {
     "iopub.execute_input": "2021-08-30T06:23:59.981798Z",
     "iopub.status.busy": "2021-08-30T06:23:59.981056Z",
     "iopub.status.idle": "2021-08-30T06:24:00.218997Z",
     "shell.execute_reply": "2021-08-30T06:24:00.218188Z",
     "shell.execute_reply.started": "2021-08-30T05:58:46.420442Z"
    },
    "papermill": {
     "duration": 0.272941,
     "end_time": "2021-08-30T06:24:00.219157",
     "exception": false,
     "start_time": "2021-08-30T06:23:59.946216",
     "status": "completed"
    },
    "tags": []
   },
   "outputs": [],
   "source": [
    "from sklearn.ensemble import RandomForestRegressor\n",
    "from sklearn.metrics import mean_absolute_error\n",
    "\n",
    "# Function for comparing different approaches\n",
    "def score_dataset(X_train, X_valid, y_train, y_valid):\n",
    "    model = RandomForestRegressor(n_estimators=100, random_state=0)\n",
    "    model.fit(X_train, y_train)\n",
    "    preds = model.predict(X_valid)\n",
    "    return mean_absolute_error(y_valid, preds)"
   ]
  },
  {
   "cell_type": "markdown",
   "id": "51ab50ee",
   "metadata": {
    "papermill": {
     "duration": 0.031815,
     "end_time": "2021-08-30T06:24:00.284030",
     "exception": false,
     "start_time": "2021-08-30T06:24:00.252215",
     "status": "completed"
    },
    "tags": []
   },
   "source": [
    "# Step 2: Drop columns with missing values\n",
    "\n",
    "In this step, you'll preprocess the data in `X_train` and `X_valid` to remove columns with missing values.  Set the preprocessed DataFrames to `reduced_X_train` and `reduced_X_valid`, respectively.  "
   ]
  },
  {
   "cell_type": "code",
   "execution_count": 10,
   "id": "95f4eb4c",
   "metadata": {
    "execution": {
     "iopub.execute_input": "2021-08-30T06:24:00.377532Z",
     "iopub.status.busy": "2021-08-30T06:24:00.376794Z",
     "iopub.status.idle": "2021-08-30T06:24:00.382473Z",
     "shell.execute_reply": "2021-08-30T06:24:00.382961Z",
     "shell.execute_reply.started": "2021-08-30T06:02:35.373223Z"
    },
    "papermill": {
     "duration": 0.065961,
     "end_time": "2021-08-30T06:24:00.383157",
     "exception": false,
     "start_time": "2021-08-30T06:24:00.317196",
     "status": "completed"
    },
    "tags": []
   },
   "outputs": [
    {
     "data": {
      "application/javascript": [
       "parent.postMessage({\"jupyterEvent\": \"custom.exercise_interaction\", \"data\": {\"outcomeType\": 1, \"valueTowardsCompletion\": 1.0, \"interactionType\": 1, \"questionType\": 2, \"questionId\": \"2_DropMissing\", \"learnToolsVersion\": \"0.3.4\", \"failureMessage\": \"\", \"exceptionClass\": \"\", \"trace\": \"\"}}, \"*\")"
      ],
      "text/plain": [
       "<IPython.core.display.Javascript object>"
      ]
     },
     "metadata": {},
     "output_type": "display_data"
    },
    {
     "data": {
      "text/markdown": [
       "<span style=\"color:#33cc33\">Correct</span>"
      ],
      "text/plain": [
       "Correct"
      ]
     },
     "metadata": {},
     "output_type": "display_data"
    }
   ],
   "source": [
    "# Fill in the line below: get names of columns with missing values\n",
    "# Your code here\n",
    "cols_with_missing = [col for col in X_train.columns\n",
    "                     if X_train[col].isnull().any()]\n",
    "# Fill in the lines below: drop columns in training and validation data\n",
    "reduced_X_train = X_train.drop(cols_with_missing, axis=1)\n",
    "reduced_X_valid = X_valid.drop(cols_with_missing, axis=1)\n",
    "\n",
    "# Check your answers\n",
    "step_2.check()"
   ]
  },
  {
   "cell_type": "code",
   "execution_count": 11,
   "id": "26a96859",
   "metadata": {
    "execution": {
     "iopub.execute_input": "2021-08-30T06:24:00.455448Z",
     "iopub.status.busy": "2021-08-30T06:24:00.454778Z",
     "iopub.status.idle": "2021-08-30T06:24:00.458776Z",
     "shell.execute_reply": "2021-08-30T06:24:00.458120Z",
     "shell.execute_reply.started": "2021-08-30T06:02:00.995023Z"
    },
    "papermill": {
     "duration": 0.041697,
     "end_time": "2021-08-30T06:24:00.458917",
     "exception": false,
     "start_time": "2021-08-30T06:24:00.417220",
     "status": "completed"
    },
    "tags": []
   },
   "outputs": [],
   "source": [
    "# Lines below will give you a hint or solution code\n",
    "#step_2.hint()\n",
    "#step_2.solution()"
   ]
  },
  {
   "cell_type": "markdown",
   "id": "0e219a37",
   "metadata": {
    "papermill": {
     "duration": 0.03539,
     "end_time": "2021-08-30T06:24:00.529183",
     "exception": false,
     "start_time": "2021-08-30T06:24:00.493793",
     "status": "completed"
    },
    "tags": []
   },
   "source": [
    "Run the next code cell without changes to obtain the MAE for this approach."
   ]
  },
  {
   "cell_type": "code",
   "execution_count": 12,
   "id": "e1836975",
   "metadata": {
    "execution": {
     "iopub.execute_input": "2021-08-30T06:24:00.607294Z",
     "iopub.status.busy": "2021-08-30T06:24:00.606586Z",
     "iopub.status.idle": "2021-08-30T06:24:01.878532Z",
     "shell.execute_reply": "2021-08-30T06:24:01.879024Z",
     "shell.execute_reply.started": "2021-08-30T06:03:25.538221Z"
    },
    "papermill": {
     "duration": 1.315066,
     "end_time": "2021-08-30T06:24:01.879217",
     "exception": false,
     "start_time": "2021-08-30T06:24:00.564151",
     "status": "completed"
    },
    "tags": []
   },
   "outputs": [
    {
     "name": "stdout",
     "output_type": "stream",
     "text": [
      "MAE (Drop columns with missing values):\n",
      "17837.82570776256\n"
     ]
    }
   ],
   "source": [
    "print(\"MAE (Drop columns with missing values):\")\n",
    "print(score_dataset(reduced_X_train, reduced_X_valid, y_train, y_valid))"
   ]
  },
  {
   "cell_type": "markdown",
   "id": "3deff853",
   "metadata": {
    "papermill": {
     "duration": 0.038273,
     "end_time": "2021-08-30T06:24:01.951505",
     "exception": false,
     "start_time": "2021-08-30T06:24:01.913232",
     "status": "completed"
    },
    "tags": []
   },
   "source": [
    "# Step 3: Imputation\n",
    "\n",
    "### Part A\n",
    "\n",
    "Use the next code cell to impute missing values with the mean value along each column.  Set the preprocessed DataFrames to `imputed_X_train` and `imputed_X_valid`.  Make sure that the column names match those in `X_train` and `X_valid`."
   ]
  },
  {
   "cell_type": "code",
   "execution_count": 13,
   "id": "36c97d7a",
   "metadata": {
    "execution": {
     "iopub.execute_input": "2021-08-30T06:24:02.026713Z",
     "iopub.status.busy": "2021-08-30T06:24:02.026000Z",
     "iopub.status.idle": "2021-08-30T06:24:02.062475Z",
     "shell.execute_reply": "2021-08-30T06:24:02.062960Z",
     "shell.execute_reply.started": "2021-08-30T06:12:03.942950Z"
    },
    "papermill": {
     "duration": 0.077035,
     "end_time": "2021-08-30T06:24:02.063122",
     "exception": false,
     "start_time": "2021-08-30T06:24:01.986087",
     "status": "completed"
    },
    "tags": []
   },
   "outputs": [
    {
     "data": {
      "application/javascript": [
       "parent.postMessage({\"jupyterEvent\": \"custom.exercise_interaction\", \"data\": {\"outcomeType\": 1, \"valueTowardsCompletion\": 1.0, \"interactionType\": 1, \"questionType\": 2, \"questionId\": \"3.1_ImputeCode\", \"learnToolsVersion\": \"0.3.4\", \"failureMessage\": \"\", \"exceptionClass\": \"\", \"trace\": \"\"}}, \"*\")"
      ],
      "text/plain": [
       "<IPython.core.display.Javascript object>"
      ]
     },
     "metadata": {},
     "output_type": "display_data"
    },
    {
     "data": {
      "text/markdown": [
       "<span style=\"color:#33cc33\">Correct</span>"
      ],
      "text/plain": [
       "Correct"
      ]
     },
     "metadata": {},
     "output_type": "display_data"
    }
   ],
   "source": [
    "from sklearn.impute import SimpleImputer\n",
    "\n",
    "# Fill in the lines below: imputation\n",
    "# Imputation\n",
    "my_imputer = SimpleImputer()\n",
    "imputed_X_train = pd.DataFrame(my_imputer.fit_transform(X_train))\n",
    "imputed_X_valid = pd.DataFrame(my_imputer.transform(X_valid))\n",
    "\n",
    "# Fill in the lines below: imputation removed column names; put them back\n",
    "imputed_X_train.columns = X_train.columns\n",
    "imputed_X_valid.columns = X_valid.columns\n",
    "\n",
    "# Check your answers\n",
    "step_3.a.check()"
   ]
  },
  {
   "cell_type": "code",
   "execution_count": 14,
   "id": "950dc828",
   "metadata": {
    "execution": {
     "iopub.execute_input": "2021-08-30T06:24:02.136298Z",
     "iopub.status.busy": "2021-08-30T06:24:02.135606Z",
     "iopub.status.idle": "2021-08-30T06:24:02.138613Z",
     "shell.execute_reply": "2021-08-30T06:24:02.139121Z",
     "shell.execute_reply.started": "2021-08-30T06:12:14.231781Z"
    },
    "papermill": {
     "duration": 0.041167,
     "end_time": "2021-08-30T06:24:02.139297",
     "exception": false,
     "start_time": "2021-08-30T06:24:02.098130",
     "status": "completed"
    },
    "tags": []
   },
   "outputs": [],
   "source": [
    "# Lines below will give you a hint or solution code\n",
    "#step_3.a.hint()\n",
    "#step_3.a.solution()"
   ]
  },
  {
   "cell_type": "markdown",
   "id": "ed0fd731",
   "metadata": {
    "papermill": {
     "duration": 0.035373,
     "end_time": "2021-08-30T06:24:02.210489",
     "exception": false,
     "start_time": "2021-08-30T06:24:02.175116",
     "status": "completed"
    },
    "tags": []
   },
   "source": [
    "Run the next code cell without changes to obtain the MAE for this approach."
   ]
  },
  {
   "cell_type": "code",
   "execution_count": 15,
   "id": "5b50e061",
   "metadata": {
    "execution": {
     "iopub.execute_input": "2021-08-30T06:24:02.285319Z",
     "iopub.status.busy": "2021-08-30T06:24:02.284674Z",
     "iopub.status.idle": "2021-08-30T06:24:03.681126Z",
     "shell.execute_reply": "2021-08-30T06:24:03.681718Z",
     "shell.execute_reply.started": "2021-08-30T06:12:19.421750Z"
    },
    "papermill": {
     "duration": 1.435444,
     "end_time": "2021-08-30T06:24:03.681897",
     "exception": false,
     "start_time": "2021-08-30T06:24:02.246453",
     "status": "completed"
    },
    "tags": []
   },
   "outputs": [
    {
     "name": "stdout",
     "output_type": "stream",
     "text": [
      "MAE (Imputation):\n",
      "18062.894611872147\n"
     ]
    }
   ],
   "source": [
    "print(\"MAE (Imputation):\")\n",
    "print(score_dataset(imputed_X_train, imputed_X_valid, y_train, y_valid))"
   ]
  },
  {
   "cell_type": "markdown",
   "id": "a9dc2e0d",
   "metadata": {
    "papermill": {
     "duration": 0.036054,
     "end_time": "2021-08-30T06:24:03.756002",
     "exception": false,
     "start_time": "2021-08-30T06:24:03.719948",
     "status": "completed"
    },
    "tags": []
   },
   "source": [
    "### Part B\n",
    "\n",
    "Compare the MAE from each approach.  Does anything surprise you about the results?  Why do you think one approach performed better than the other?"
   ]
  },
  {
   "cell_type": "code",
   "execution_count": 16,
   "id": "72a10a11",
   "metadata": {
    "execution": {
     "iopub.execute_input": "2021-08-30T06:24:03.832531Z",
     "iopub.status.busy": "2021-08-30T06:24:03.831817Z",
     "iopub.status.idle": "2021-08-30T06:24:03.836462Z",
     "shell.execute_reply": "2021-08-30T06:24:03.836995Z",
     "shell.execute_reply.started": "2021-08-30T06:18:59.645075Z"
    },
    "papermill": {
     "duration": 0.045488,
     "end_time": "2021-08-30T06:24:03.837222",
     "exception": false,
     "start_time": "2021-08-30T06:24:03.791734",
     "status": "completed"
    },
    "tags": []
   },
   "outputs": [
    {
     "data": {
      "application/javascript": [
       "parent.postMessage({\"jupyterEvent\": \"custom.exercise_interaction\", \"data\": {\"outcomeType\": 1, \"valueTowardsCompletion\": 1.0, \"interactionType\": 1, \"questionType\": 4, \"questionId\": \"3.2_ImputeThought\", \"learnToolsVersion\": \"0.3.4\", \"failureMessage\": \"\", \"exceptionClass\": \"\", \"trace\": \"\"}}, \"*\")"
      ],
      "text/plain": [
       "<IPython.core.display.Javascript object>"
      ]
     },
     "metadata": {},
     "output_type": "display_data"
    },
    {
     "data": {
      "text/markdown": [
       "<span style=\"color:#33cc33\">Correct:</span> \n",
       "\n",
       "Given that thre are so few missing values in the dataset, we'd expect imputation to perform better than dropping columns entirely.  However, we see that dropping columns performs slightly better!  While this can probably partially be attributed to noise in the dataset, another potential explanation is that the imputation method is not a great match to this dataset.  That is, maybe instead of filling in the mean value, it makes more sense to set every missing value to a value of 0, to fill in the most frequently encountered value, or to use some other method.  For instance, consider the `GarageYrBlt` column (which indicates the year that the garage was built).  It's likely that in some cases, a missing value could indicate a house that does not have a garage.  Does it make more sense to fill in the median value along each column in this case?  Or could we get better results by filling in the minimum value along each column?  It's not quite clear what's best in this case, but perhaps we can rule out some options immediately - for instance, setting missing values in this column to 0 is likely to yield horrible results!"
      ],
      "text/plain": [
       "Correct: \n",
       "\n",
       "Given that thre are so few missing values in the dataset, we'd expect imputation to perform better than dropping columns entirely.  However, we see that dropping columns performs slightly better!  While this can probably partially be attributed to noise in the dataset, another potential explanation is that the imputation method is not a great match to this dataset.  That is, maybe instead of filling in the mean value, it makes more sense to set every missing value to a value of 0, to fill in the most frequently encountered value, or to use some other method.  For instance, consider the `GarageYrBlt` column (which indicates the year that the garage was built).  It's likely that in some cases, a missing value could indicate a house that does not have a garage.  Does it make more sense to fill in the median value along each column in this case?  Or could we get better results by filling in the minimum value along each column?  It's not quite clear what's best in this case, but perhaps we can rule out some options immediately - for instance, setting missing values in this column to 0 is likely to yield horrible results!"
      ]
     },
     "metadata": {},
     "output_type": "display_data"
    }
   ],
   "source": [
    "# Check your answer (Run this code cell to receive credit!)\n",
    "step_3.b.check()"
   ]
  },
  {
   "cell_type": "code",
   "execution_count": 17,
   "id": "78743be7",
   "metadata": {
    "execution": {
     "iopub.execute_input": "2021-08-30T06:24:03.920471Z",
     "iopub.status.busy": "2021-08-30T06:24:03.919814Z",
     "iopub.status.idle": "2021-08-30T06:24:03.922846Z",
     "shell.execute_reply": "2021-08-30T06:24:03.923443Z",
     "shell.execute_reply.started": "2021-08-30T06:19:02.046878Z"
    },
    "papermill": {
     "duration": 0.04747,
     "end_time": "2021-08-30T06:24:03.923617",
     "exception": false,
     "start_time": "2021-08-30T06:24:03.876147",
     "status": "completed"
    },
    "tags": []
   },
   "outputs": [],
   "source": [
    "#step_3.b.hint()"
   ]
  },
  {
   "cell_type": "markdown",
   "id": "5adadc11",
   "metadata": {
    "papermill": {
     "duration": 0.036735,
     "end_time": "2021-08-30T06:24:03.998202",
     "exception": false,
     "start_time": "2021-08-30T06:24:03.961467",
     "status": "completed"
    },
    "tags": []
   },
   "source": [
    "# Step 4: Generate test predictions\n",
    "\n",
    "In this final step, you'll use any approach of your choosing to deal with missing values.  Once you've preprocessed the training and validation features, you'll train and evaluate a random forest model.  Then, you'll preprocess the test data before generating predictions that can be submitted to the competition!\n",
    "\n",
    "### Part A\n",
    "\n",
    "Use the next code cell to preprocess the training and validation data.  Set the preprocessed DataFrames to `final_X_train` and `final_X_valid`.  **You can use any approach of your choosing here!**  in order for this step to be marked as correct, you need only ensure:\n",
    "- the preprocessed DataFrames have the same number of columns,\n",
    "- the preprocessed DataFrames have no missing values, \n",
    "- `final_X_train` and `y_train` have the same number of rows, and\n",
    "- `final_X_valid` and `y_valid` have the same number of rows."
   ]
  },
  {
   "cell_type": "code",
   "execution_count": 18,
   "id": "46880843",
   "metadata": {
    "execution": {
     "iopub.execute_input": "2021-08-30T06:24:04.076335Z",
     "iopub.status.busy": "2021-08-30T06:24:04.075652Z",
     "iopub.status.idle": "2021-08-30T06:24:04.108052Z",
     "shell.execute_reply": "2021-08-30T06:24:04.108521Z",
     "shell.execute_reply.started": "2021-08-30T06:21:02.909599Z"
    },
    "papermill": {
     "duration": 0.073568,
     "end_time": "2021-08-30T06:24:04.108705",
     "exception": false,
     "start_time": "2021-08-30T06:24:04.035137",
     "status": "completed"
    },
    "tags": []
   },
   "outputs": [
    {
     "data": {
      "application/javascript": [
       "parent.postMessage({\"jupyterEvent\": \"custom.exercise_interaction\", \"data\": {\"outcomeType\": 1, \"valueTowardsCompletion\": 1.0, \"interactionType\": 1, \"questionType\": 2, \"questionId\": \"4.1_PredsCodeA\", \"learnToolsVersion\": \"0.3.4\", \"failureMessage\": \"\", \"exceptionClass\": \"\", \"trace\": \"\"}}, \"*\")"
      ],
      "text/plain": [
       "<IPython.core.display.Javascript object>"
      ]
     },
     "metadata": {},
     "output_type": "display_data"
    },
    {
     "data": {
      "text/markdown": [
       "<span style=\"color:#33cc33\">Correct</span>"
      ],
      "text/plain": [
       "Correct"
      ]
     },
     "metadata": {},
     "output_type": "display_data"
    }
   ],
   "source": [
    "# Preprocessed training and validation features\n",
    "# Imputation\n",
    "final_imputer = SimpleImputer(strategy='median')\n",
    "final_X_train = pd.DataFrame(final_imputer.fit_transform(X_train))\n",
    "final_X_valid = pd.DataFrame(final_imputer.transform(X_valid))\n",
    "\n",
    "# Imputation removed column names; put them back\n",
    "final_X_train.columns = X_train.columns\n",
    "final_X_valid.columns = X_valid.columns\n",
    "# Check your answers\n",
    "step_4.a.check()"
   ]
  },
  {
   "cell_type": "code",
   "execution_count": 19,
   "id": "3bf45f62",
   "metadata": {
    "execution": {
     "iopub.execute_input": "2021-08-30T06:24:04.190239Z",
     "iopub.status.busy": "2021-08-30T06:24:04.189475Z",
     "iopub.status.idle": "2021-08-30T06:24:04.192617Z",
     "shell.execute_reply": "2021-08-30T06:24:04.193078Z",
     "shell.execute_reply.started": "2021-08-30T06:21:24.439862Z"
    },
    "papermill": {
     "duration": 0.046675,
     "end_time": "2021-08-30T06:24:04.193265",
     "exception": false,
     "start_time": "2021-08-30T06:24:04.146590",
     "status": "completed"
    },
    "tags": []
   },
   "outputs": [],
   "source": [
    "# Lines below will give you a hint or solution code\n",
    "#step_4.a.hint()\n",
    "#step_4.a.solution()"
   ]
  },
  {
   "cell_type": "markdown",
   "id": "a0d74822",
   "metadata": {
    "papermill": {
     "duration": 0.03972,
     "end_time": "2021-08-30T06:24:04.272335",
     "exception": false,
     "start_time": "2021-08-30T06:24:04.232615",
     "status": "completed"
    },
    "tags": []
   },
   "source": [
    "Run the next code cell to train and evaluate a random forest model.  (*Note that we don't use the `score_dataset()` function above, because we will soon use the trained model to generate test predictions!*)"
   ]
  },
  {
   "cell_type": "code",
   "execution_count": 20,
   "id": "047d1e19",
   "metadata": {
    "execution": {
     "iopub.execute_input": "2021-08-30T06:24:04.355996Z",
     "iopub.status.busy": "2021-08-30T06:24:04.355271Z",
     "iopub.status.idle": "2021-08-30T06:24:05.756251Z",
     "shell.execute_reply": "2021-08-30T06:24:05.756991Z",
     "shell.execute_reply.started": "2021-08-30T06:21:28.072288Z"
    },
    "papermill": {
     "duration": 1.44476,
     "end_time": "2021-08-30T06:24:05.757178",
     "exception": false,
     "start_time": "2021-08-30T06:24:04.312418",
     "status": "completed"
    },
    "tags": []
   },
   "outputs": [
    {
     "name": "stdout",
     "output_type": "stream",
     "text": [
      "MAE (Your approach):\n",
      "17791.59899543379\n"
     ]
    }
   ],
   "source": [
    "# Define and fit model\n",
    "model = RandomForestRegressor(n_estimators=100, random_state=0)\n",
    "model.fit(final_X_train, y_train)\n",
    "\n",
    "# Get validation predictions and MAE\n",
    "preds_valid = model.predict(final_X_valid)\n",
    "print(\"MAE (Your approach):\")\n",
    "print(mean_absolute_error(y_valid, preds_valid))"
   ]
  },
  {
   "cell_type": "markdown",
   "id": "5f95f883",
   "metadata": {
    "papermill": {
     "duration": 0.037361,
     "end_time": "2021-08-30T06:24:05.834947",
     "exception": false,
     "start_time": "2021-08-30T06:24:05.797586",
     "status": "completed"
    },
    "tags": []
   },
   "source": [
    "### Part B\n",
    "\n",
    "Use the next code cell to preprocess your test data.  Make sure that you use a method that agrees with how you preprocessed the training and validation data, and set the preprocessed test features to `final_X_test`.\n",
    "\n",
    "Then, use the preprocessed test features and the trained model to generate test predictions in `preds_test`.\n",
    "\n",
    "In order for this step to be marked correct, you need only ensure:\n",
    "- the preprocessed test DataFrame has no missing values, and\n",
    "- `final_X_test` has the same number of rows as `X_test`."
   ]
  },
  {
   "cell_type": "code",
   "execution_count": 21,
   "id": "af71b2d4",
   "metadata": {
    "execution": {
     "iopub.execute_input": "2021-08-30T06:24:05.926050Z",
     "iopub.status.busy": "2021-08-30T06:24:05.924776Z",
     "iopub.status.idle": "2021-08-30T06:24:05.972910Z",
     "shell.execute_reply": "2021-08-30T06:24:05.972346Z",
     "shell.execute_reply.started": "2021-08-30T06:22:18.580156Z"
    },
    "papermill": {
     "duration": 0.09899,
     "end_time": "2021-08-30T06:24:05.973071",
     "exception": false,
     "start_time": "2021-08-30T06:24:05.874081",
     "status": "completed"
    },
    "tags": []
   },
   "outputs": [
    {
     "data": {
      "application/javascript": [
       "parent.postMessage({\"jupyterEvent\": \"custom.exercise_interaction\", \"data\": {\"outcomeType\": 1, \"valueTowardsCompletion\": 1.0, \"interactionType\": 1, \"questionType\": 2, \"questionId\": \"4.2_PredsCodeB\", \"learnToolsVersion\": \"0.3.4\", \"failureMessage\": \"\", \"exceptionClass\": \"\", \"trace\": \"\"}}, \"*\")"
      ],
      "text/plain": [
       "<IPython.core.display.Javascript object>"
      ]
     },
     "metadata": {},
     "output_type": "display_data"
    },
    {
     "data": {
      "text/markdown": [
       "<span style=\"color:#33cc33\">Correct</span>"
      ],
      "text/plain": [
       "Correct"
      ]
     },
     "metadata": {},
     "output_type": "display_data"
    }
   ],
   "source": [
    "# Fill in the line below: preprocess test data\n",
    "final_X_test = pd.DataFrame(final_imputer.transform(X_test))\n",
    "\n",
    "# Fill in the line below: get test predictions\n",
    "preds_test = model.predict(final_X_test)\n",
    "\n",
    "# Check your answers\n",
    "step_4.b.check()"
   ]
  },
  {
   "cell_type": "code",
   "execution_count": 22,
   "id": "a245526a",
   "metadata": {
    "execution": {
     "iopub.execute_input": "2021-08-30T06:24:06.054537Z",
     "iopub.status.busy": "2021-08-30T06:24:06.053823Z",
     "iopub.status.idle": "2021-08-30T06:24:06.056761Z",
     "shell.execute_reply": "2021-08-30T06:24:06.056111Z",
     "shell.execute_reply.started": "2021-08-30T06:22:26.240493Z"
    },
    "papermill": {
     "duration": 0.04522,
     "end_time": "2021-08-30T06:24:06.056901",
     "exception": false,
     "start_time": "2021-08-30T06:24:06.011681",
     "status": "completed"
    },
    "tags": []
   },
   "outputs": [],
   "source": [
    "# Lines below will give you a hint or solution code\n",
    "#step_4.b.hint()\n",
    "#step_4.b.solution()"
   ]
  },
  {
   "cell_type": "markdown",
   "id": "1a6ae4e7",
   "metadata": {
    "papermill": {
     "duration": 0.038235,
     "end_time": "2021-08-30T06:24:06.134610",
     "exception": false,
     "start_time": "2021-08-30T06:24:06.096375",
     "status": "completed"
    },
    "tags": []
   },
   "source": [
    "Run the next code cell without changes to save your results to a CSV file that can be submitted directly to the competition."
   ]
  },
  {
   "cell_type": "code",
   "execution_count": 23,
   "id": "d9b0ca98",
   "metadata": {
    "execution": {
     "iopub.execute_input": "2021-08-30T06:24:06.216807Z",
     "iopub.status.busy": "2021-08-30T06:24:06.216054Z",
     "iopub.status.idle": "2021-08-30T06:24:06.230980Z",
     "shell.execute_reply": "2021-08-30T06:24:06.230334Z",
     "shell.execute_reply.started": "2021-08-30T06:22:28.624609Z"
    },
    "papermill": {
     "duration": 0.057039,
     "end_time": "2021-08-30T06:24:06.231141",
     "exception": false,
     "start_time": "2021-08-30T06:24:06.174102",
     "status": "completed"
    },
    "tags": []
   },
   "outputs": [],
   "source": [
    "# Save test predictions to file\n",
    "output = pd.DataFrame({'Id': X_test.index,\n",
    "                       'SalePrice': preds_test})\n",
    "output.to_csv('submission.csv', index=False)"
   ]
  },
  {
   "cell_type": "markdown",
   "id": "b3ca4846",
   "metadata": {
    "papermill": {
     "duration": 0.038158,
     "end_time": "2021-08-30T06:24:06.308562",
     "exception": false,
     "start_time": "2021-08-30T06:24:06.270404",
     "status": "completed"
    },
    "tags": []
   },
   "source": [
    "# Submit your results\n",
    "\n",
    "Once you have successfully completed Step 4, you're ready to submit your results to the leaderboard!  (_You also learned how to do this in the previous exercise.  If you need a reminder of how to do this, please use the instructions below._)  \n",
    "\n",
    "First, you'll need to join the competition if you haven't already.  So open a new window by clicking on [this link](https://www.kaggle.com/c/home-data-for-ml-course).  Then click on the **Join Competition** button.\n",
    "\n",
    "![join competition image](https://i.imgur.com/wLmFtH3.png)\n",
    "\n",
    "Next, follow the instructions below:\n",
    "1. Begin by clicking on the blue **Save Version** button in the top right corner of the window.  This will generate a pop-up window.  \n",
    "2. Ensure that the **Save and Run All** option is selected, and then click on the blue **Save** button.\n",
    "3. This generates a window in the bottom left corner of the notebook.  After it has finished running, click on the number to the right of the **Save Version** button.  This pulls up a list of versions on the right of the screen.  Click on the ellipsis **(...)** to the right of the most recent version, and select **Open in Viewer**.  This brings you into view mode of the same page. You will need to scroll down to get back to these instructions.\n",
    "4. Click on the **Output** tab on the right of the screen.  Then, click on the file you would like to submit, and click on the blue **Submit** button to submit your results to the leaderboard.\n",
    "\n",
    "You have now successfully submitted to the competition!\n",
    "\n",
    "If you want to keep working to improve your performance, select the blue **Edit** button in the top right of the screen. Then you can change your code and repeat the process. There's a lot of room to improve, and you will climb up the leaderboard as you work.\n",
    "\n",
    "\n",
    "# Keep going\n",
    "\n",
    "Move on to learn what **[categorical variables](https://www.kaggle.com/alexisbcook/categorical-variables)** are, along with how to incorporate them into your machine learning models.  Categorical variables are very common in real-world data, but you'll get an error if you try to plug them into your models without processing them first!"
   ]
  },
  {
   "cell_type": "markdown",
   "id": "5d21916a",
   "metadata": {
    "papermill": {
     "duration": 0.038325,
     "end_time": "2021-08-30T06:24:06.386206",
     "exception": false,
     "start_time": "2021-08-30T06:24:06.347881",
     "status": "completed"
    },
    "tags": []
   },
   "source": [
    "---\n",
    "\n",
    "\n",
    "\n",
    "\n",
    "*Have questions or comments? Visit the [Learn Discussion forum](https://www.kaggle.com/learn-forum/161289) to chat with other Learners.*"
   ]
  }
 ],
 "metadata": {
  "kernelspec": {
   "display_name": "Python 3",
   "language": "python",
   "name": "python3"
  },
  "language_info": {
   "codemirror_mode": {
    "name": "ipython",
    "version": 3
   },
   "file_extension": ".py",
   "mimetype": "text/x-python",
   "name": "python",
   "nbconvert_exporter": "python",
   "pygments_lexer": "ipython3",
   "version": "3.7.10"
  },
  "papermill": {
   "default_parameters": {},
   "duration": 18.45904,
   "end_time": "2021-08-30T06:24:07.134588",
   "environment_variables": {},
   "exception": null,
   "input_path": "__notebook__.ipynb",
   "output_path": "__notebook__.ipynb",
   "parameters": {},
   "start_time": "2021-08-30T06:23:48.675548",
   "version": "2.3.3"
  }
 },
 "nbformat": 4,
 "nbformat_minor": 5
}
